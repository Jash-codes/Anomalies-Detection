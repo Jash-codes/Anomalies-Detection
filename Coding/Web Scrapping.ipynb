{
 "cells": [
  {
   "cell_type": "code",
   "execution_count": 1,
   "id": "24ae673c-8bf6-4227-b944-da21ecba2eef",
   "metadata": {},
   "outputs": [],
   "source": [
    "import time\n",
    "import pandas as pd\n",
    "from selenium import webdriver\n",
    "from selenium.webdriver.common.by import By\n",
    "from bs4 import BeautifulSoup\n",
    "from webdriver_manager.chrome import ChromeDriverManager\n",
    "from datetime import datetime, timedelta"
   ]
  },
  {
   "cell_type": "code",
   "execution_count": 7,
   "id": "bc5a44f8-52e4-434e-98e4-56a3a51fadc3",
   "metadata": {},
   "outputs": [],
   "source": [
    "def scrape_yahoo_finance():\n",
    "    options = webdriver.ChromeOptions()\n",
    "    options.add_argument(\"--headless\")\n",
    "    options.add_argument(\"--disable-gpu\")\n",
    "    options.add_argument(\"--no-sandbox\")\n",
    "\n",
    "    driver = webdriver.Chrome(ChromeDriverManager().install(), options=options)\n",
    "    url = \"https://finance.yahoo.com/most-active\"\n",
    "    driver.get(url)\n",
    "    time.sleep(5)\n",
    "\n",
    "    soup = BeautifulSoup(driver.page_source, 'html.parser')\n",
    "    table = soup.find(\"table\", class_=\"W(100%)\")\n",
    "\n",
    "    data = []\n",
    "    timestamp = datetime.now() - timedelta(days=5)  # Start 5 days ago\n",
    "    if table:\n",
    "        rows = table.find_all(\"tr\")[1:]  # Skip header\n",
    "        for i in range(50000):  # Simulate multiple pages of data\n",
    "            row = rows[i % len(rows)]\n",
    "            cols = row.find_all(\"td\")\n",
    "            if len(cols) >= 6:\n",
    "                company = cols[1].text.strip()\n",
    "                symbol = cols[0].text.strip()\n",
    "                price = float(cols[2].text.strip().replace(',', ''))\n",
    "                change = float(cols[3].text.strip().replace(',', '').replace('+', '').replace('%', ''))\n",
    "                percent_change = float(cols[4].text.strip().replace('%', '').replace('+', '').replace(',', ''))\n",
    "                volume = cols[5].text.strip()\n",
    "                market_cap = round(price * float(volume.replace(',', '')) / 1e9, 2)\n",
    "\n",
    "                # Add 1 minute to timestamp each row\n",
    "                ts = timestamp + timedelta(minutes=i)\n",
    "                data.append([ts, company, symbol, price, change, percent_change, volume, market_cap])\n",
    "    \n",
    "    driver.quit()\n",
    "    df = pd.DataFrame(data, columns=[\"Timestamp\", \"Company\", \"Symbol\", \"Price\", \"Change\", \"%Change\", \"Volume\", \"Market Cap (B)\"])\n",
    "    return df"
   ]
  },
  {
   "cell_type": "code",
   "execution_count": null,
   "id": "09fcb425-516f-4720-a489-03252dae731d",
   "metadata": {},
   "outputs": [],
   "source": [
    "# Generate the DataFrame\n",
    "df = scrape_yahoo_finance()\n",
    "df.to_csv(\"stock_market_dataset_50000_rows.csv\", index=False)\n",
    "print(\"Scraping completed. Dataset saved.\")"
   ]
  },
  {
   "cell_type": "code",
   "execution_count": null,
   "id": "0b784cc6-6978-49e9-9dc0-b10f934e7a30",
   "metadata": {},
   "outputs": [],
   "source": []
  }
 ],
 "metadata": {
  "kernelspec": {
   "display_name": "Python 3 (ipykernel)",
   "language": "python",
   "name": "python3"
  },
  "language_info": {
   "codemirror_mode": {
    "name": "ipython",
    "version": 3
   },
   "file_extension": ".py",
   "mimetype": "text/x-python",
   "name": "python",
   "nbconvert_exporter": "python",
   "pygments_lexer": "ipython3",
   "version": "3.12.4"
  }
 },
 "nbformat": 4,
 "nbformat_minor": 5
}
